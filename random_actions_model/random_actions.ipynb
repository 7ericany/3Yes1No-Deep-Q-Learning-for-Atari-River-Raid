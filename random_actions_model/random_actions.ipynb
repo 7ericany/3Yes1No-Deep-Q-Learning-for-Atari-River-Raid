{
 "cells": [
  {
   "cell_type": "code",
   "execution_count": 1,
   "id": "60c205ba",
   "metadata": {},
   "outputs": [],
   "source": [
    "RUNNING_LOCALLY = True"
   ]
  },
  {
   "cell_type": "code",
   "execution_count": 2,
   "id": "6642660a-1238-488f-be01-63a2f2e3325d",
   "metadata": {},
   "outputs": [],
   "source": [
    "import os\n",
    "\n",
    "# PLEASE SET YOUR OWN WORKING_DIRECTORY WHEN RUNNING LOCALLY\n",
    "WORKING_DIRECTORY = \"/home/yash/Desktop/Courses/CS2470/Final_Project/working_dir/\"\n",
    "\n",
    "if not RUNNING_LOCALLY:\n",
    "    os.chdir(\"/home/yash/\")\n",
    "    print(\"Current Directory ->\", os.getcwd())\n",
    "\n",
    "    WORKING_DIRECTORY = \"/home/yash/working_dir/\"\n",
    "\n",
    "    # Ensure that you are working in the right environment\n",
    "    !echo $CONDA_PREFIX\n",
    "\n",
    "LOG_FILE = WORKING_DIRECTORY + \"log_file.txt\"\n",
    "\n",
    "def write_to_log(statement, include_blank_line=False):\n",
    "    try:\n",
    "        with open(LOG_FILE, \"a\") as myfile:\n",
    "            if include_blank_line:\n",
    "                myfile.write(\"\\n\\n\" + statement)\n",
    "            else:\n",
    "                myfile.write(\"\\n\" + statement)\n",
    "    except:\n",
    "        # Running this locally may cause errors, and isn't required\n",
    "        pass"
   ]
  },
  {
   "cell_type": "code",
   "execution_count": null,
   "id": "28a7379d-5c58-4894-8c21-8950478d0958",
   "metadata": {},
   "outputs": [],
   "source": [
    "import gym\n",
    "import time\n",
    "import numpy as np\n",
    "from collections import deque\n",
    "from gym import spaces\n",
    "import numpy as np\n",
    "import tensorflow as tf\n",
    "from tensorflow import keras\n",
    "from tensorflow.keras import layers\n",
    "import time\n",
    "\n",
    "print(\"Num GPUs Available: \", len(tf.config.list_physical_devices('GPU')))"
   ]
  },
  {
   "cell_type": "code",
   "execution_count": 4,
   "id": "f24a5407",
   "metadata": {},
   "outputs": [],
   "source": [
    "class ConcatObs(gym.Wrapper):\n",
    "    def __init__(self, env, k):\n",
    "        gym.Wrapper.__init__(self, env)\n",
    "        self.k = k\n",
    "        self.frames = deque([], maxlen=k)\n",
    "        shp = env.observation_space.shape\n",
    "        self.observation_space = \\\n",
    "            spaces.Box(low=0, high=255, shape=((k,) + shp), dtype=env.observation_space.dtype)\n",
    "\n",
    "    def reset(self):\n",
    "        ob = self.env.reset()\n",
    "        for _ in range(self.k):\n",
    "            self.frames.append(ob)\n",
    "        return self._get_ob()\n",
    "\n",
    "    def step(self, action):\n",
    "        ob, reward, done, info = self.env.step(action)\n",
    "        self.frames.append(ob)\n",
    "        return self._get_ob(), reward, done, info\n",
    "\n",
    "    def _get_ob(self):\n",
    "        return np.array(self.frames)"
   ]
  },
  {
   "cell_type": "code",
   "execution_count": 5,
   "id": "6a7cfe11",
   "metadata": {},
   "outputs": [],
   "source": [
    "# A bunch of wrappers to get us started, please use these\n",
    "class ObservationWrapper(gym.ObservationWrapper):\n",
    "    def __init__(self, env, GRAYSCALE=False, NORMALIZE=False):\n",
    "        self.GRAYSCALE = GRAYSCALE\n",
    "        self.NORMALIZE = NORMALIZE\n",
    "        super().__init__(env)\n",
    "    \n",
    "    def observation(self, obs):\n",
    "        # Normalise observation by 255\n",
    "\n",
    "        \n",
    "        if self.NORMALIZE:\n",
    "            obs = obs / 255.0\n",
    "        # Convert to grayscale -> This isn't quite working right now, but we can update the function quite easily later\n",
    "        if self.GRAYSCALE:\n",
    "#             obs = obs\n",
    "            obs = tf.image.rgb_to_grayscale(obs)\n",
    "                    \n",
    "        image = obs[:,2:-9,8:,:]\n",
    "        image = tf.image.resize(image,[84,84])\n",
    "        image = tf.transpose(tf.reshape(image, image.shape[:-1]),perm = [1,2,0])\n",
    "        return image\n",
    "\n",
    "class RewardWrapper(gym.RewardWrapper):\n",
    "    def __init__(self, env):\n",
    "        super().__init__(env)\n",
    "    \n",
    "    def reward(self, reward):\n",
    "        # Clip reward between 0 to 1\n",
    "        return np.clip(reward, 0, 1)\n",
    "    \n",
    "class ActionWrapper(gym.ActionWrapper):\n",
    "    def __init__(self, env):\n",
    "        super().__init__(env)\n",
    "    \n",
    "    def action(self, action):\n",
    "        return action"
   ]
  },
  {
   "cell_type": "code",
   "execution_count": 7,
   "id": "929c1702",
   "metadata": {},
   "outputs": [
    {
     "name": "stderr",
     "output_type": "stream",
     "text": [
      "2022-05-05 18:04:39.528828: I tensorflow/core/platform/cpu_feature_guard.cc:151] This TensorFlow binary is optimized with oneAPI Deep Neural Network Library (oneDNN) to use the following CPU instructions in performance-critical operations:  AVX2 FMA\n",
      "To enable them in other operations, rebuild TensorFlow with the appropriate compiler flags.\n"
     ]
    }
   ],
   "source": [
    "# Using the wrappers for the environment\n",
    "env = gym.make(\"ALE/Riverraid-v5\")\n",
    "env = ObservationWrapper(RewardWrapper(ActionWrapper(ConcatObs(env, 4))), GRAYSCALE=True, NORMALIZE=True)\n",
    "obs = env.reset()"
   ]
  },
  {
   "cell_type": "markdown",
   "id": "d9ab4b1c",
   "metadata": {},
   "source": [
    "**Episodes with n_game**"
   ]
  },
  {
   "cell_type": "code",
   "execution_count": 8,
   "id": "56619e4c",
   "metadata": {},
   "outputs": [],
   "source": [
    "model_name = \"random_model\"\n",
    "n_games = 1000"
   ]
  },
  {
   "cell_type": "code",
   "execution_count": 10,
   "id": "745bed3c",
   "metadata": {},
   "outputs": [
    {
     "name": "stdout",
     "output_type": "stream",
     "text": [
      "Running game 50/1000...\n",
      "Running game 100/1000...\n",
      "Running game 150/1000...\n",
      "Running game 200/1000...\n",
      "Running game 250/1000...\n",
      "Running game 300/1000...\n",
      "Running game 350/1000...\n",
      "Running game 400/1000...\n",
      "Running game 450/1000...\n",
      "Running game 500/1000...\n",
      "Running game 550/1000...\n",
      "Running game 600/1000...\n",
      "Running game 650/1000...\n",
      "Running game 700/1000...\n",
      "Running game 750/1000...\n",
      "Running game 800/1000...\n",
      "Running game 850/1000...\n",
      "Running game 900/1000...\n",
      "Running game 950/1000...\n",
      "Running game 1000/1000...\n"
     ]
    }
   ],
   "source": [
    "rot_list = np.zeros(n_games)\n",
    "time_list = np.zeros(n_games)\n",
    "num_steps = np.zeros(n_games)\n",
    "\n",
    "for i in range(0, n_games):\n",
    "    if (i+1)%50 == 0:\n",
    "        print(f'Running game {i+1}/{n_games}...')\n",
    "    \n",
    "    obs = env.reset()\n",
    "    rTot = 0\n",
    "    start_time = time.time()\n",
    "    done = False\n",
    "    step_count = 0\n",
    "    \n",
    "    while not done:\n",
    "        action = env.action_space.sample()\n",
    "        obs, reward, done, info = env.step(action)\n",
    "        step_count += 1\n",
    "        rTot += reward\n",
    "\n",
    "    end_time = time.time()\n",
    "    inter = end_time-start_time\n",
    "    rot_list[i] = rTot\n",
    "    time_list[i] = inter\n",
    "    num_steps[i] = step_count\n",
    "\n",
    "env.close()\n",
    "\n",
    "# write_to_log(\"average_reward: {}\".format(sum(rot_list)/n_games), include_blank_line=False)\n",
    "# write_to_log(\"average_time: {}\".format(sum(time_list)/n_games), include_blank_line=False)\n",
    "# write_to_log(\"sum(rot_list[-5:])/5: {}\".format(sum(rot_list[-5:])/5), include_blank_line=False)\n",
    "# write_to_log(\"sum(time_list[-5:])/5: {}\".format(sum(time_list[-5:])/5), include_blank_line=False)"
   ]
  },
  {
   "cell_type": "code",
   "execution_count": 13,
   "id": "39e1b46f",
   "metadata": {},
   "outputs": [],
   "source": [
    "def describe_array(arr):\n",
    "    return arr.min(), arr.max(), arr.mean(), arr.std()"
   ]
  },
  {
   "cell_type": "code",
   "execution_count": 14,
   "id": "e458a5be",
   "metadata": {},
   "outputs": [
    {
     "name": "stdout",
     "output_type": "stream",
     "text": [
      "(338.0, 1199.0, 733.901, 134.17822177611387)\n",
      "(10.0, 41.0, 22.067, 5.119229531872936)\n",
      "(1.4359190464019775, 6.545130729675293, 3.2691763134002687, 0.68510435066317)\n"
     ]
    }
   ],
   "source": [
    "print(describe_array(num_steps))\n",
    "print(describe_array(rot_list))\n",
    "print(describe_array(time_list))"
   ]
  },
  {
   "cell_type": "code",
   "execution_count": 15,
   "id": "0ec9928b",
   "metadata": {},
   "outputs": [],
   "source": [
    "np.save(WORKING_DIRECTORY + model_name + \"_\" + str(n_games) + \"_num_steps\", num_steps)\n",
    "np.save(WORKING_DIRECTORY + model_name + \"_\" + str(n_games) + \"_rot_list\", rot_list)\n",
    "np.save(WORKING_DIRECTORY + model_name + \"_\" + str(n_games) + \"_time_list\", time_list)"
   ]
  },
  {
   "cell_type": "code",
   "execution_count": 26,
   "id": "d02e2619",
   "metadata": {},
   "outputs": [],
   "source": [
    "num_steps = np.load(WORKING_DIRECTORY + model_name + \"_\" + str(n_games) + \"_num_steps.npy\")\n",
    "rot_list = np.load(WORKING_DIRECTORY + model_name + \"_\" + str(n_games) + \"_rot_list.npy\")\n",
    "time_list = np.load(WORKING_DIRECTORY + model_name + \"_\" + str(n_games) + \"_time_list.npy\")"
   ]
  },
  {
   "cell_type": "code",
   "execution_count": 27,
   "id": "73848d22",
   "metadata": {},
   "outputs": [
    {
     "name": "stdout",
     "output_type": "stream",
     "text": [
      "(503.0, 910.0, 721.8333333333334, 95.1595443919783)\n",
      "(12.0, 27.0, 21.3, 3.6891733491393435)\n",
      "(2.417938232421875, 4.532612562179565, 3.4751102924346924, 0.47531624347623735)\n"
     ]
    }
   ],
   "source": [
    "print(describe_array(num_steps))\n",
    "print(describe_array(rot_list))\n",
    "print(describe_array(time_list))"
   ]
  },
  {
   "cell_type": "code",
   "execution_count": 12,
   "id": "6609e414",
   "metadata": {},
   "outputs": [
    {
     "name": "stdout",
     "output_type": "stream",
     "text": [
      "average_reward: 0.0\n",
      "average_time: 3.476018190383911\n"
     ]
    }
   ],
   "source": [
    "print(\"average_reward: {}\".format(rot_list.sum()/n_games))\n",
    "print(\"average_time: {}\".format(time_list.sum()/n_games))"
   ]
  },
  {
   "cell_type": "code",
   "execution_count": null,
   "id": "625e8175",
   "metadata": {},
   "outputs": [],
   "source": [
    "print(\"average_reward: {}\".format(sum(rot_list)/n_games))\n",
    "print(\"average_time: {}\".format(sum(time_list)/n_games))\n",
    "print(\"sum(rot_list[-5:])/5: {}\".format(sum(rot_list[-5:])/5))\n",
    "print(\"sum(time_list[-5:])/5: {}\".format(sum(time_list[-5:])/5))"
   ]
  },
  {
   "cell_type": "markdown",
   "id": "596e807c",
   "metadata": {},
   "source": [
    "1. After 100 games:<br>\n",
    "   average_reward:773.95<br>\n",
    "   average_time:21.668797335624696<br>"
   ]
  },
  {
   "cell_type": "code",
   "execution_count": 173,
   "id": "ff60ec74",
   "metadata": {},
   "outputs": [
    {
     "name": "stdout",
     "output_type": "stream",
     "text": [
      "WARNING:tensorflow:No training configuration found in save file, so the model was *not* compiled. Compile it manually.\n"
     ]
    }
   ],
   "source": [
    "# q_net_copy = keras.models.load_model(model_path)"
   ]
  },
  {
   "cell_type": "code",
   "execution_count": 1,
   "id": "f32d1f21",
   "metadata": {},
   "outputs": [],
   "source": [
    "# q_net_copy.get_weights()"
   ]
  },
  {
   "cell_type": "code",
   "execution_count": null,
   "id": "96b200e8",
   "metadata": {},
   "outputs": [],
   "source": []
  }
 ],
 "metadata": {
  "@webio": {
   "lastCommId": null,
   "lastKernelId": null
  },
  "environment": {
   "kernel": "python3",
   "name": "tf2-gpu.2-8.m91",
   "type": "gcloud",
   "uri": "gcr.io/deeplearning-platform-release/tf2-gpu.2-8:m91"
  },
  "interpreter": {
   "hash": "b8bd69ed4ffee0ae412486d98ceaaadb3fa2922e6e180ca66d279a33125fa193"
  },
  "kernelspec": {
   "display_name": "Python 3 (ipykernel)",
   "language": "python",
   "name": "python3"
  },
  "language_info": {
   "codemirror_mode": {
    "name": "ipython",
    "version": 3
   },
   "file_extension": ".py",
   "mimetype": "text/x-python",
   "name": "python",
   "nbconvert_exporter": "python",
   "pygments_lexer": "ipython3",
   "version": "3.7.13"
  }
 },
 "nbformat": 4,
 "nbformat_minor": 5
}
