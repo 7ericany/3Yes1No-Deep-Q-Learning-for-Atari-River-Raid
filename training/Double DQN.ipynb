{
 "cells": [
  {
   "cell_type": "code",
   "execution_count": 2,
   "id": "60c205ba",
   "metadata": {},
   "outputs": [],
   "source": [
    "RUNNING_LOCALLY = True"
   ]
  },
  {
   "cell_type": "code",
   "execution_count": 3,
   "id": "6642660a-1238-488f-be01-63a2f2e3325d",
   "metadata": {},
   "outputs": [],
   "source": [
    "import os\n",
    "\n",
    "# PLEASE SET YOUR OWN WORKING_DIRECTORY WHEN RUNNING LOCALLY\n",
    "WORKING_DIRECTORY = \"../working_dir\" # \"/home/yash/Desktop/Courses/CS2470/Final_Project/working_dir/\"\n",
    "\n",
    "if not RUNNING_LOCALLY:\n",
    "    os.chdir(\"/home/yash/\")\n",
    "    print(\"Current Directory ->\", os.getcwd())\n",
    "\n",
    "    WORKING_DIRECTORY = \"/home/yash/working_dir/\"\n",
    "\n",
    "    # Ensure that you are working in the right environment\n",
    "    !echo $CONDA_PREFIX\n",
    "\n",
    "LOG_FILE = WORKING_DIRECTORY + \"log_file.txt\"\n",
    "\n",
    "def write_to_log(statement, include_blank_line=False):\n",
    "    try:\n",
    "        with open(LOG_FILE, \"a\") as myfile:\n",
    "            if include_blank_line:\n",
    "                myfile.write(\"\\n\\n\" + statement)\n",
    "            else:\n",
    "                myfile.write(\"\\n\" + statement)\n",
    "    except:\n",
    "        # Running this locally may cause errors, and isn't required\n",
    "        pass"
   ]
  },
  {
   "cell_type": "code",
   "execution_count": 4,
   "id": "28a7379d-5c58-4894-8c21-8950478d0958",
   "metadata": {},
   "outputs": [
    {
     "name": "stderr",
     "output_type": "stream",
     "text": [
      "D:\\program\\Anaconda\\envs\\atari\\lib\\site-packages\\flatbuffers\\compat.py:19: DeprecationWarning: the imp module is deprecated in favour of importlib; see the module's documentation for alternative uses\n",
      "  import imp\n",
      "D:\\program\\Anaconda\\envs\\atari\\lib\\site-packages\\keras_preprocessing\\image\\utils.py:23: DeprecationWarning: NEAREST is deprecated and will be removed in Pillow 10 (2023-07-01). Use Resampling.NEAREST or Dither.NONE instead.\n",
      "  'nearest': pil_image.NEAREST,\n",
      "D:\\program\\Anaconda\\envs\\atari\\lib\\site-packages\\keras_preprocessing\\image\\utils.py:24: DeprecationWarning: BILINEAR is deprecated and will be removed in Pillow 10 (2023-07-01). Use Resampling.BILINEAR instead.\n",
      "  'bilinear': pil_image.BILINEAR,\n",
      "D:\\program\\Anaconda\\envs\\atari\\lib\\site-packages\\keras_preprocessing\\image\\utils.py:25: DeprecationWarning: BICUBIC is deprecated and will be removed in Pillow 10 (2023-07-01). Use Resampling.BICUBIC instead.\n",
      "  'bicubic': pil_image.BICUBIC,\n",
      "D:\\program\\Anaconda\\envs\\atari\\lib\\site-packages\\keras_preprocessing\\image\\utils.py:28: DeprecationWarning: HAMMING is deprecated and will be removed in Pillow 10 (2023-07-01). Use Resampling.HAMMING instead.\n",
      "  if hasattr(pil_image, 'HAMMING'):\n",
      "D:\\program\\Anaconda\\envs\\atari\\lib\\site-packages\\keras_preprocessing\\image\\utils.py:30: DeprecationWarning: BOX is deprecated and will be removed in Pillow 10 (2023-07-01). Use Resampling.BOX instead.\n",
      "  if hasattr(pil_image, 'BOX'):\n",
      "D:\\program\\Anaconda\\envs\\atari\\lib\\site-packages\\keras_preprocessing\\image\\utils.py:33: DeprecationWarning: LANCZOS is deprecated and will be removed in Pillow 10 (2023-07-01). Use Resampling.LANCZOS instead.\n",
      "  if hasattr(pil_image, 'LANCZOS'):\n"
     ]
    },
    {
     "name": "stdout",
     "output_type": "stream",
     "text": [
      "Num GPUs Available:  0\n"
     ]
    }
   ],
   "source": [
    "import gym\n",
    "import time\n",
    "import numpy as np\n",
    "from collections import deque\n",
    "from gym import spaces\n",
    "import numpy as np\n",
    "import tensorflow as tf\n",
    "from tensorflow import keras\n",
    "from tensorflow.keras import layers\n",
    "import time\n",
    "\n",
    "print(\"Num GPUs Available: \", len(tf.config.list_physical_devices('GPU')))"
   ]
  },
  {
   "cell_type": "markdown",
   "id": "1713d3e2",
   "metadata": {},
   "source": [
    "## Wrappers and set up Environment"
   ]
  },
  {
   "cell_type": "code",
   "execution_count": 5,
   "id": "f24a5407",
   "metadata": {},
   "outputs": [],
   "source": [
    "class ConcatObs(gym.Wrapper):\n",
    "    def __init__(self, env, k=4):\n",
    "        gym.Wrapper.__init__(self, env)\n",
    "        self.k = k\n",
    "        self.frames = deque([], maxlen=k)\n",
    "        shp = env.observation_space.shape\n",
    "        self.observation_space = \\\n",
    "            spaces.Box(low=0, high=255, shape=((k,) + shp), dtype=env.observation_space.dtype)\n",
    "\n",
    "    def reset(self):\n",
    "        ob = self.env.reset()\n",
    "        for _ in range(self.k):\n",
    "            self.frames.append(ob)\n",
    "\n",
    "        return self._get_ob()\n",
    "\n",
    "    def step(self, action):\n",
    "        \n",
    "#         ob, reward, done, info = self.env.step(action)\n",
    "#         self.frames.append(ob)\n",
    "#         return self._get_ob(), reward, done, info\n",
    "        total_reward = 0.0\n",
    "        done = None\n",
    "        for i in range(self.k):\n",
    "            obs, reward, done, info = self.env.step(action)\n",
    "            total_reward += reward\n",
    "            self.frames.append(obs)\n",
    "            \n",
    "            # only count one live each episode\n",
    "            done = True if info['lives'] < 4 else False\n",
    "            if done:  \n",
    "                break\n",
    "        return self._get_ob(), total_reward, done, info\n",
    "\n",
    "    def _get_ob(self):\n",
    "        return np.array(self.frames)"
   ]
  },
  {
   "cell_type": "code",
   "execution_count": 6,
   "id": "6a7cfe11",
   "metadata": {},
   "outputs": [],
   "source": [
    "# A bunch of wrappers to get us started, please use these\n",
    "class ObservationWrapper(gym.ObservationWrapper):\n",
    "    def __init__(self, env, GRAYSCALE=False, NORMALIZE=False):\n",
    "        self.GRAYSCALE = GRAYSCALE\n",
    "        self.NORMALIZE = NORMALIZE\n",
    "        super().__init__(env)\n",
    "    \n",
    "    def observation(self, obs):\n",
    "        # Normalise observation by 255\n",
    "        if self.NORMALIZE:\n",
    "            obs = obs / 255.0\n",
    "            \n",
    "        if self.GRAYSCALE:\n",
    "            obs = tf.image.rgb_to_grayscale(obs)\n",
    "                    \n",
    "        image = obs[:,2:-9,8:,:]\n",
    "        image = tf.image.resize(image,[84,84])\n",
    "        image = tf.transpose(tf.reshape(image, image.shape[:-1]),perm = [1,2,0])\n",
    "        return image\n",
    "\n",
    "class RewardWrapper(gym.RewardWrapper):\n",
    "    def __init__(self, env):\n",
    "        super().__init__(env)\n",
    "    \n",
    "    def reward(self, reward):\n",
    "        # Clip reward between 0 to 1\n",
    "        #return np.clip(reward, 0, 1)\n",
    "        return reward\n",
    "    \n",
    "class ActionWrapper(gym.ActionWrapper):\n",
    "    def __init__(self, env):\n",
    "        super().__init__(env)\n",
    "    \n",
    "    def action(self, action):\n",
    "        return action"
   ]
  },
  {
   "cell_type": "code",
   "execution_count": 7,
   "id": "439033ef",
   "metadata": {},
   "outputs": [],
   "source": [
    "import collections\n",
    "\n",
    "Experience = collections.namedtuple('Experience', field_names=['state', 'action', 'reward', 'done', 'new_state'])\n",
    "\n",
    "class ExperienceReplay:\n",
    "    def __init__(self, capacity):\n",
    "        self.buffer = collections.deque(maxlen=capacity)\n",
    "\n",
    "    def __len__(self):\n",
    "        return len(self.buffer)\n",
    "\n",
    "    def append(self, experience):\n",
    "        self.buffer.append(experience)\n",
    "\n",
    "    def sample(self, batch_size):\n",
    "        indices = np.random.choice(len(self.buffer), batch_size, replace=False)\n",
    "        states, actions, rewards, dones, next_states = zip(*[self.buffer[idx] for idx in indices])\n",
    "        return np.array(states), np.array(actions), np.array(rewards, dtype=np.float32), \\\n",
    "               np.array(dones, dtype=np.uint8), np.array(next_states)"
   ]
  },
  {
   "cell_type": "code",
   "execution_count": 29,
   "id": "38eb8dfc-80eb-4161-8c6c-c472ebaa3d9d",
   "metadata": {},
   "outputs": [],
   "source": [
    "env = gym.make(\"ALE/Riverraid-v5\")"
   ]
  },
  {
   "cell_type": "code",
   "execution_count": 30,
   "id": "929c1702",
   "metadata": {},
   "outputs": [],
   "source": [
    "# Using the wrappers for the environment\n",
    "env = ObservationWrapper(RewardWrapper(ActionWrapper(ConcatObs(env,k=4))), GRAYSCALE=True, NORMALIZE=True)\n",
    "obs = env.reset()"
   ]
  },
  {
   "cell_type": "code",
   "execution_count": 116,
   "id": "c83ee636",
   "metadata": {},
   "outputs": [],
   "source": [
    "#visualization\n",
    "#image = tf.keras.preprocessing.image.array_to_img(tf.reshape(image[:,:,3],[84,84,1]))\n",
    "# image1 = tf.image.resize(obs_,[84,84])\n",
    "# tf.keras.preprocessing.image.array_to_img(image1)"
   ]
  },
  {
   "cell_type": "markdown",
   "id": "90535de1",
   "metadata": {},
   "source": [
    "## DQN"
   ]
  },
  {
   "cell_type": "code",
   "execution_count": 31,
   "id": "10ed81d9",
   "metadata": {},
   "outputs": [
    {
     "name": "stdout",
     "output_type": "stream",
     "text": [
      "Model: \"model_6\"\n",
      "__________________________________________________________________________________________________\n",
      " Layer (type)                   Output Shape         Param #     Connected to                     \n",
      "==================================================================================================\n",
      " input_8 (InputLayer)           [(None, 84, 84, 4)]  0           []                               \n",
      "                                                                                                  \n",
      " conv2d_21 (Conv2D)             (None, 20, 20, 32)   8224        ['input_8[0][0]']                \n",
      "                                                                                                  \n",
      " conv2d_22 (Conv2D)             (None, 9, 9, 64)     32832       ['conv2d_21[0][0]']              \n",
      "                                                                                                  \n",
      " conv2d_23 (Conv2D)             (None, 7, 7, 64)     36928       ['conv2d_22[0][0]']              \n",
      "                                                                                                  \n",
      " flatten_7 (Flatten)            (None, 3136)         0           ['conv2d_23[0][0]']              \n",
      "                                                                                                  \n",
      " dense_24 (Dense)               (None, 512)          1606144     ['flatten_7[0][0]']              \n",
      "                                                                                                  \n",
      " dense_26 (Dense)               (None, 18)           9234        ['dense_24[0][0]']               \n",
      "                                                                                                  \n",
      " dense_25 (Dense)               (None, 512)          1606144     ['flatten_7[0][0]']              \n",
      "                                                                                                  \n",
      " dense_27 (Dense)               (None, 1)            513         ['dense_25[0][0]']               \n",
      "                                                                                                  \n",
      " tf.math.reduce_mean_4 (TFOpLam  ()                  0           ['dense_26[0][0]']               \n",
      " bda)                                                                                             \n",
      "                                                                                                  \n",
      " tf.math.subtract_4 (TFOpLambda  (None, 1)           0           ['dense_27[0][0]',               \n",
      " )                                                                'tf.math.reduce_mean_4[0][0]']  \n",
      "                                                                                                  \n",
      " tf.math.add_2 (TFOpLambda)     (None, 18)           0           ['dense_26[0][0]',               \n",
      "                                                                  'tf.math.subtract_4[0][0]']     \n",
      "                                                                                                  \n",
      "==================================================================================================\n",
      "Total params: 3,300,019\n",
      "Trainable params: 3,300,019\n",
      "Non-trainable params: 0\n",
      "__________________________________________________________________________________________________\n",
      "None\n"
     ]
    }
   ],
   "source": [
    "hidden_size = 512\n",
    "num_actions = env.action_space.n\n",
    "# q_net = tf.keras.Sequential()\n",
    "# q_net.add(tf.keras.layers.Flatten())\n",
    "# q_net.add(tf.keras.layers.Dense(hidden_size, activation='relu'))\n",
    "# q_net.add(tf.keras.layers.Dense(num_actions, activation='softmax'))\n",
    "#we can try to add convolutional layers\n",
    "\n",
    "def create_q_model(input_shape, hidden_size, num_actions):\n",
    "    # Network defined by the Deepmind paper\n",
    "    inputs = layers.Input(shape=input_shape)\n",
    "    # Convolutions on the frames on the screen\n",
    "\n",
    "    CNN1 = layers.Conv2D(32, 8, strides=4, activation=\"relu\")(inputs)\n",
    "    CNN2 = layers.Conv2D(64, 4, strides=2, activation=\"relu\")(CNN1)\n",
    "    CNN3 = layers.Conv2D(64, 3, strides=1, activation=\"relu\")(CNN2)\n",
    "    flatten = layers.Flatten()(CNN3)\n",
    "    \n",
    "    adv_dense1 = tf.keras.layers.Dense(hidden_size, activation='relu')(flatten) \n",
    "    val_dense1 = tf.keras.layers.Dense(hidden_size, activation='relu')(flatten)\n",
    "    \n",
    "    adv_out = tf.keras.layers.Dense(num_actions)(adv_dense1)\n",
    "    val_out = tf.keras.layers.Dense(1)(val_dense1)\n",
    "    \n",
    "    out = tf.math.add(adv_out, val_out - tf.reduce_mean(adv_out))\n",
    "    \n",
    "\n",
    "    return keras.Model(inputs=inputs, outputs=out)\n",
    "\n",
    "q_net = create_q_model(input_shape=obs.shape, hidden_size=hidden_size, num_actions=num_actions)\n",
    "print(q_net.summary())\n",
    "#for replay\n",
    "target_net = create_q_model(input_shape=obs.shape, hidden_size=hidden_size, num_actions=num_actions)\n",
    "trainer = tf.keras.optimizers.RMSprop(learning_rate = 0.001)"
   ]
  },
  {
   "cell_type": "markdown",
   "id": "d9af89cd",
   "metadata": {},
   "source": [
    "**One episode**"
   ]
  },
  {
   "cell_type": "code",
   "execution_count": 33,
   "id": "21ca50e5-2251-41c5-b99e-355688a4cd7b",
   "metadata": {},
   "outputs": [],
   "source": [
    "def choose_action(env, q_values, state, epsilon, greedy=False):\n",
    "    if not greedy and np.random.rand(1) < epsilon:\n",
    "        #action = env.action_space.sample()\n",
    "        action = np.random.randint(num_actions)\n",
    "    else:\n",
    "        action = tf.math.argmax(q_values, axis=1).numpy()[0] # greedy\n",
    "    return action\n",
    "\n",
    "\n",
    "def train_one_episode(q_net, e, gamma, num_steps):\n",
    "    start_time = time.time()\n",
    "    rTot = 0\n",
    "    obs = env.reset()\n",
    "    step = 0\n",
    "#     def MSE_loss(q_values, q_values_nst)\n",
    "        \n",
    "    for step in range(num_steps):\n",
    "        with tf.GradientTape() as tape:\n",
    "            q_values = q_net(np.array([obs]))\n",
    "            action = choose_action(env, q_values, obs, e)\n",
    "            # apply the action\n",
    "    \n",
    "            nst_obs, reward, done, info = env.step(action)\n",
    "            done = True if info['lives'] < 4 else False\n",
    "            \n",
    "            q_values_next = tf.stop_gradient(target_net(np.array([nst_obs])))\n",
    "            # action_nst = choose_action(env, q_values_nest, nst_obs, e, greedy=True)\n",
    "            \n",
    "            \n",
    "            ## calculate loss\n",
    "            action_q = tf.reduce_sum(q_values * tf.one_hot(action, num_actions), axis=1)\n",
    "        \n",
    "            #nst_q = tf.reduce_sum(tf.one_hot(tf.argmax(q_values, axis=1), num_actions) * q_values_next, axis=1)\n",
    "            action_next = tf.argmax(q_values_next, axis=1)\n",
    "            action_q_next = tf.reduce_sum(q_values_next * tf.one_hot(action_next, num_actions), axis=1)\n",
    "            action_target_q = reward + (1 - tf.cast(done, tf.float32)) * gamma * action_q_next\n",
    "\n",
    "\n",
    "            \n",
    "            td_error = action_target_q - action_q\n",
    "            ## huber\n",
    "            # loss = tf.reduce_mean(tf.where(tf.abs(td_error) < 0.5, tf.square(td_error), tf.abs(td_error) - 0.25))\n",
    "            loss = tf.reduce_sum(tf.square(td_error))\n",
    "            \n",
    "        grad = tape.gradient(loss,q_net.trainable_variables)\n",
    "        trainer.apply_gradients(zip(grad,q_net.trainable_variables))\n",
    "        rTot += reward\n",
    "\n",
    "        obs = nst_obs\n",
    "        if done:\n",
    "            break\n",
    "        \n",
    "        \n",
    " \n",
    "    end_time = time.time()\n",
    "    inter = end_time-start_time\n",
    "    return rTot, inter, step"
   ]
  },
  {
   "cell_type": "code",
   "execution_count": 34,
   "id": "5d9d15a5",
   "metadata": {},
   "outputs": [
    {
     "name": "stdout",
     "output_type": "stream",
     "text": [
      "(110.0, 7.631537675857544, 27)\n"
     ]
    }
   ],
   "source": [
    "print(train_one_episode(q_net, e, gamma, num_steps))"
   ]
  },
  {
   "cell_type": "markdown",
   "id": "d9ab4b1c",
   "metadata": {},
   "source": [
    "**Episodes with n_game**"
   ]
  },
  {
   "cell_type": "code",
   "execution_count": 20,
   "id": "0eafb6a0",
   "metadata": {},
   "outputs": [
    {
     "ename": "NameError",
     "evalue": "name 'n_games' is not defined",
     "output_type": "error",
     "traceback": [
      "\u001b[0;31m---------------------------------------------------------------------------\u001b[0m",
      "\u001b[0;31mNameError\u001b[0m                                 Traceback (most recent call last)",
      "\u001b[0;32m/var/folders/zv/kd2r8j_57g7_yzdls4hcvcd80000gn/T/ipykernel_18109/1107755173.py\u001b[0m in \u001b[0;36m<module>\u001b[0;34m\u001b[0m\n\u001b[1;32m      1\u001b[0m \u001b[0;31m# Write to log\u001b[0m\u001b[0;34m\u001b[0m\u001b[0;34m\u001b[0m\u001b[0m\n\u001b[0;32m----> 2\u001b[0;31m \u001b[0mmodel_name\u001b[0m \u001b[0;34m=\u001b[0m \u001b[0;34m\"DQN_\"\u001b[0m \u001b[0;34m+\u001b[0m \u001b[0mstr\u001b[0m\u001b[0;34m(\u001b[0m\u001b[0mn_games\u001b[0m\u001b[0;34m)\u001b[0m\u001b[0;34m\u001b[0m\u001b[0;34m\u001b[0m\u001b[0m\n\u001b[0m\u001b[1;32m      3\u001b[0m \u001b[0mwrite_to_log\u001b[0m\u001b[0;34m(\u001b[0m\u001b[0;34m\"Starting \"\u001b[0m \u001b[0;34m+\u001b[0m \u001b[0mmodel_name\u001b[0m\u001b[0;34m,\u001b[0m \u001b[0minclude_blank_line\u001b[0m\u001b[0;34m=\u001b[0m\u001b[0;32mTrue\u001b[0m\u001b[0;34m)\u001b[0m\u001b[0;34m\u001b[0m\u001b[0;34m\u001b[0m\u001b[0m\n",
      "\u001b[0;31mNameError\u001b[0m: name 'n_games' is not defined"
     ]
    }
   ],
   "source": [
    "# Write to log\n",
    "model_name = \"DQN_\" + str(n_games)\n",
    "write_to_log(\"Starting \" + model_name, include_blank_line=True)"
   ]
  },
  {
   "cell_type": "code",
   "execution_count": 24,
   "id": "b1053a5c",
   "metadata": {},
   "outputs": [],
   "source": [
    "# Hyper parameters\n",
    "num_steps = 100000\n",
    "gamma = 0.99\n",
    "decreasing_factor = 0.999\n",
    "e = 0.99\n",
    "e_threshold = 0.1\n",
    "\n",
    "memory_size = 500\n",
    "batch_size = 32\n",
    "sync_target_frames = 50 #number of episodes to update the target net\n"
   ]
  },
  {
   "cell_type": "code",
   "execution_count": 35,
   "id": "745bed3c",
   "metadata": {},
   "outputs": [
    {
     "name": "stdout",
     "output_type": "stream",
     "text": [
      "Running game 10/100...\n",
      "Running game 20/100...\n",
      "Running game 30/100...\n",
      "Running game 40/100...\n",
      "Running game 50/100...\n",
      "Running game 60/100...\n",
      "Running game 70/100...\n",
      "Running game 80/100...\n",
      "Running game 90/100...\n",
      "Running game 100/100...\n"
     ]
    }
   ],
   "source": [
    "# Train num_games episodes\n",
    "n_games = 100 #when running in the GCP, we can set a much higher value\n",
    "\n",
    "rot_list = np.zeros(n_games)\n",
    "time_list = np.zeros(n_games)\n",
    "step_each_epi = np.zeros(n_games)\n",
    "\n",
    "\n",
    "for i in range(n_games):\n",
    "    if (i+1)%10 == 0:\n",
    "        print(f'Running game {i+1}/{n_games}...')\n",
    "        write_to_log(f'Running game {i+1}/{n_games}...', include_blank_line=False)\n",
    "    \n",
    "    e = max(e*decreasing_factor, e_threshold)\n",
    "    \n",
    "    rot_list[i], time_list[i], step_each_epi[i] = train_one_episode(q_net, e, gamma, num_steps)\n",
    "\n",
    "env.close()"
   ]
  },
  {
   "cell_type": "code",
   "execution_count": 36,
   "id": "13e770f5",
   "metadata": {},
   "outputs": [
    {
     "name": "stdout",
     "output_type": "stream",
     "text": [
      "average_reward:129.2\n",
      "average_time:6.219141809940338\n",
      "max_steps:73.0\n"
     ]
    },
    {
     "data": {
      "text/plain": [
       "[<matplotlib.lines.Line2D at 0x22042ad7708>]"
      ]
     },
     "execution_count": 36,
     "metadata": {},
     "output_type": "execute_result"
    },
    {
     "data": {
      "image/png": "[encoded data removed]",
      "text/plain": [
       "<Figure size 432x288 with 1 Axes>"
      ]
     },
     "metadata": {
      "needs_background": "light"
     },
     "output_type": "display_data"
    }
   ],
   "source": [
    "# 100 episodes\n",
    "print(\"average_reward:{}\".format(sum(rot_list)/n_games))\n",
    "print(\"average_time:{}\".format(sum(time_list)/n_games))\n",
    "print(\"max_steps:{}\".format(max(step_each_epi)))\n",
    "import matplotlib.pyplot as plt\n",
    "plt.plot(rot_list)"
   ]
  },
  {
   "cell_type": "code",
   "execution_count": 24,
   "id": "59c895c1",
   "metadata": {},
   "outputs": [
    {
     "name": "stdout",
     "output_type": "stream",
     "text": [
      "average_reward:88.21\n",
      "average_time:0.6479108505249024\n",
      "max_steps:75.0\n"
     ]
    },
    {
     "data": {
      "text/plain": [
       "[<matplotlib.lines.Line2D at 0x11dc350a0>]"
      ]
     },
     "execution_count": 24,
     "metadata": {},
     "output_type": "execute_result"
    },
    {
     "data": {
      "image/png": "[encoded data removed]",
      "text/plain": [
       "<Figure size 432x288 with 1 Axes>"
      ]
     },
     "metadata": {
      "needs_background": "light"
     },
     "output_type": "display_data"
    }
   ],
   "source": [
    "# 1000 episodes results\n",
    "# ignore this!\n",
    "print(\"average_reward:{}\".format(sum(rot_list)/n_games))\n",
    "print(\"average_time:{}\".format(sum(time_list)/n_games))\n",
    "print(\"max_steps:{}\".format(max(step_each_epi)))\n",
    "import matplotlib.pyplot as plt\n",
    "plt.plot(rot_list)"
   ]
  },
  {
   "cell_type": "markdown",
   "id": "28f7ef30",
   "metadata": {},
   "source": [
    "## Save the model"
   ]
  },
  {
   "cell_type": "code",
   "execution_count": null,
   "id": "156ed0e2",
   "metadata": {},
   "outputs": [],
   "source": [
    "write_to_log(\"Completed \" + model_name, include_blank_line=False)\n",
    "write_to_log(\"average_reward:{}\".format(sum(rot_list)/n_games), include_blank_line=False)\n",
    "write_to_log(\"average_time:{}\".format(sum(time_list)/n_games), include_blank_line=False)"
   ]
  },
  {
   "cell_type": "markdown",
   "id": "596e807c",
   "metadata": {},
   "source": [
    "1. Yingfei - After 100 games:<br>\n",
    "   average_reward:773.95<br>\n",
    "   average_time:21.668797335624696<br>\n",
    "   sum(rot_list[-5:])/5 = 1534.6 (wrong result)\n",
    "   sum(time_list[-5:])/5 = 15.960728788375855 (wrong result)"
   ]
  },
  {
   "cell_type": "code",
   "execution_count": 172,
   "id": "591376f0",
   "metadata": {},
   "outputs": [
    {
     "name": "stdout",
     "output_type": "stream",
     "text": [
      "WARNING:tensorflow:Compiled the loaded model, but the compiled metrics have yet to be built. `model.compile_metrics` will be empty until you train or evaluate the model.\n",
      "INFO:tensorflow:Assets written to: model/cDQN_100\\assets\n"
     ]
    }
   ],
   "source": [
    "model_path = WORKING_DIRECTORY + \"model/cDQN_\" + str(n_games)\n",
    "q_net.save(model_path)\n",
    "q_net_copy = keras.models.load_model(model_path)\n",
    "# q_net_copy.get_weights()"
   ]
  },
  {
   "cell_type": "code",
   "execution_count": null,
   "id": "96b200e8",
   "metadata": {},
   "outputs": [],
   "source": [
    "# obs = env.reset()\n",
    "# rTot = 0\n",
    "# start_time = time.time()\n",
    "\n",
    "# for step in range(num_steps):\n",
    "\n",
    "#     with tf.GradientTape() as tape:\n",
    "#         # Compute the Q values and best action for the current state\n",
    "#         q_values = q_net(np.array([obs]))\n",
    "\n",
    "#         # Epsilon adaptive\n",
    "#         if np.random.rand(1) < e:\n",
    "#             action = env.action_space.sample()\n",
    "#         else:\n",
    "#             # Added an else statement so the command only runs if necessary\n",
    "#             action = tf.math.argmax(q_values,axis=1).numpy()[0]\n",
    "\n",
    "#         # apply the action\n",
    "#         nst_obs, reward, done, _ = env.step(action)\n",
    "\n",
    "\n",
    "#         q_values_nst = q_net(np.array([nst_obs]))\n",
    "#         action_nst = tf.math.argmax(q_values_nst,axis=1).numpy()[0]\n",
    "\n",
    "#         td_error = q_values.numpy()\n",
    "#         td_error[0][action] = reward + gamma*np.max(q_values_nst)\n",
    "#         loss = tf.reduce_sum(tf.square(td_error-q_values))\n",
    "\n",
    "#     grad = tape.gradient(loss,q_net.trainable_variables)\n",
    "#     trainer.apply_gradients(zip(grad,q_net.trainable_variables))\n",
    "#     rTot += reward\n",
    "\n",
    "#     obs = nst_obs\n",
    "\n",
    "#     if done:\n",
    "#         break\n",
    "\n",
    "# end_time = time.time()\n",
    "# inter = end_time-start_time"
   ]
  }
 ],
 "metadata": {
  "@webio": {
   "lastCommId": null,
   "lastKernelId": null
  },
  "environment": {
   "kernel": "python3",
   "name": "tf2-gpu.2-8.m91",
   "type": "gcloud",
   "uri": "gcr.io/deeplearning-platform-release/tf2-gpu.2-8:m91"
  },
  "interpreter": {
   "hash": "b8bd69ed4ffee0ae412486d98ceaaadb3fa2922e6e180ca66d279a33125fa193"
  },
  "kernelspec": {
   "display_name": "atari",
   "language": "python",
   "name": "atari"
  },
  "language_info": {
   "codemirror_mode": {
    "name": "ipython",
    "version": 3
   },
   "file_extension": ".py",
   "mimetype": "text/x-python",
   "name": "python",
   "nbconvert_exporter": "python",
   "pygments_lexer": "ipython3",
   "version": "3.7.13"
  }
 },
 "nbformat": 4,
 "nbformat_minor": 5
}
